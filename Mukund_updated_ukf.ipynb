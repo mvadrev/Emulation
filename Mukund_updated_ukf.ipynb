{
  "nbformat": 4,
  "nbformat_minor": 0,
  "metadata": {
    "colab": {
      "name": "Mukund_updated_ukf.ipynb",
      "provenance": [],
      "collapsed_sections": [],
      "include_colab_link": true
    },
    "kernelspec": {
      "name": "python3",
      "display_name": "Python 3"
    },
    "language_info": {
      "name": "python"
    }
  },
  "cells": [
    {
      "cell_type": "markdown",
      "metadata": {
        "id": "view-in-github",
        "colab_type": "text"
      },
      "source": [
        "<a href=\"https://colab.research.google.com/github/mvadrev/Emulation/blob/main/Mukund_updated_ukf.ipynb\" target=\"_parent\"><img src=\"https://colab.research.google.com/assets/colab-badge.svg\" alt=\"Open In Colab\"/></a>"
      ]
    },
    {
      "cell_type": "code",
      "execution_count": 31,
      "metadata": {
        "id": "9A9QFtfQf5Iu"
      },
      "outputs": [],
      "source": [
        "import numpy as np\n",
        "from numpy.linalg import norm\n",
        "from math import sqrt\n",
        "from scipy.linalg import cholesky\n",
        "from scipy import linalg\n",
        "from math import atan2\n",
        "\n",
        "def f_radar(x, dt):\n",
        "    \"\"\" state transition function for a constant velocity\n",
        "    aircraft with the state vector [distance, velocity, altitude]\"\"\"\n",
        "    return (np.array([[1, dt, 0],\n",
        "                  [0,  1, 0],\n",
        "                  [0,  0, 1]], dtype=float)) @ x\n",
        "\n",
        "def h_radar(x, radar_pos):\n",
        "  \"\"\"Measurement function, return a list [slant_range, elevation_angle]\"\"\"\n",
        "  dim_x = x[0] - radar_pos[0]\n",
        "  dim_y = x[2] - radar_pos[1]\n",
        "\n",
        "  slant_range = sqrt(dim_x**2 + dim_y**2)\n",
        "  elevation_angle = np.arctan2(dim_y, dim_x)\n",
        "  return slant_range, elevation_angle"
      ]
    },
    {
      "cell_type": "code",
      "source": [
        "class RadarStation:\n",
        "\n",
        "    def __init__(self, pos, range_std, elev_angle_std):\n",
        "        self.pos = np.asarray(pos)       \n",
        "        self.range_std = range_std\n",
        "        self.elev_angle_std = elev_angle_std\n",
        "\n",
        "\n",
        "    def reading_of(self, ac_pos):\n",
        "        \"\"\" Returns (range, elevation angle) to aircraft.\n",
        "        Elevation angle is in radians.\n",
        "        \"\"\"\n",
        "        return norm(np.subtract(ac_pos, self.pos)), atan2(np.subtract(ac_pos, self.pos)[1], np.subtract(ac_pos, self.pos)[0])\n",
        "        \n",
        "\n",
        "\n",
        "    def noisy_reading(self, ac_pos):\n",
        "        \"\"\" Compute range and elevation angle to aircraft with\n",
        "        simulated noise\"\"\"\n",
        "        range, elevation = self.reading_of(ac_pos)      \n",
        "        range += np.random.randn() * self.range_std\n",
        "        elevation += np.random.randn() * self.elev_angle_std \n",
        "        return range , elevation       \n",
        "\n",
        "\n",
        "\n",
        "class ACSim:   \n",
        "    def __init__(self, pos, vel, vel_std):\n",
        "        self.position = np.asarray(pos, dtype=np.float64)\n",
        "        self.velocity = np.asarray(vel, dtype=np.float64)\n",
        "        self.velocity_std = vel_std       \n",
        "\n",
        "        \n",
        "    def update(self, dt):\n",
        "        \"\"\" Compute and returns next position. Incorporates \n",
        "        random variation in velocity. \"\"\"\n",
        "        \n",
        "        dx = self.velocity*dt + (np.random.randn() * self.velocity_std) * dt      \n",
        "        self.position += dx     \n",
        "        return self.position"
      ],
      "metadata": {
        "id": "XNdsxPnft_bT"
      },
      "execution_count": 45,
      "outputs": []
    },
    {
      "cell_type": "code",
      "source": [
        "from numpy.linalg import norm\n",
        "from math import sqrt\n",
        "from scipy.linalg import cholesky\n",
        "from scipy import linalg\n",
        "\n",
        "\n",
        "\n",
        "class UKF:\n",
        "  def __init__(self, dim_x, dim_z, fx, hx, radar_pos, dt):\n",
        "    self.radar_pos = radar_pos\n",
        "    self.dt = dt\n",
        "    self.fx = fx\n",
        "    self.hx = hx\n",
        "\n",
        "    self.mu = np.zeros(dim_x)\n",
        "    self.Sigma = np.eye(dim_x)\n",
        "    self.mup = np.zeros(dim_x)\n",
        "    self.Sigmap = np.zeros(dim_x)\n",
        "    self.z = np.zeros(dim_z)\n",
        "    self.Q = np.eye(dim_z)\n",
        "    self.R = np.eye(dim_x)\n",
        "    self.K = np.zeros((dim_x, dim_z))\n",
        "    self.y = np.zeros(dim_z)\n",
        "  \n",
        "  def SigmaPoints(self):\n",
        "    lambda_, _, _ = self.MerweWeightSigmaPoints()\n",
        "    n = len(self.mu)\n",
        "    sigmas = np.zeros((2*n+1, n))\n",
        "    U = linalg.cholesky((n+lambda_) * self.Sigma) # sqrt\n",
        "\n",
        "    sigmas[0] = self.mu\n",
        "    for k in range (n):\n",
        "        sigmas[k+1]   = self.mu + U[k]\n",
        "        sigmas[n+k+1] = self.mu - U[k]\n",
        "    return sigmas\n",
        "\n",
        "  def MerweWeightSigmaPoints(self, alpha=.1, beta=2., kappa=0.):\n",
        "    n = len(self.mu)\n",
        "    lambda_ = alpha**2 * (n + kappa) - n\n",
        "    wc = np.full(2*n + 1,  1. / (2*(n + lambda_)))\n",
        "    wm = np.full(2*n + 1,  1. / (2*(n + lambda_)))\n",
        "    wc[0] = lambda_ / (n + lambda_) + (1. - alpha**2 + beta)\n",
        "    wm[0] = lambda_ / (n + lambda_)\n",
        "    return lambda_, wc, wm\n",
        "\n",
        "  def unscented_transform(self, sigmas, R):\n",
        "\n",
        "      _, wc, wm = self.MerweWeightSigmaPoints()\n",
        "      mu = np.dot(wm, sigmas)\n",
        "      kmax, n = sigmas.shape\n",
        "      P = np.zeros((n, n))\n",
        "      for k in range(kmax):\n",
        "          y = sigmas[k] - mu\n",
        "          P += wc[k] * np.outer(y, y)\n",
        "      P += R\n",
        "      return mu, P\n",
        "\n",
        "  def predict(self):\n",
        "      # calculate sigma points for given mean and covariance\n",
        "      y = self.SigmaPoints()\n",
        "      sigmas_f = np.zeros(y.shape)\n",
        "\n",
        "      for i in range(len(sigmas_f)):\n",
        "        sigmas_f[i] = self.fx(y[i], dt)\n",
        "\n",
        "      self.muP, self.SigmaP = self.unscented_transform(sigmas_f, self.R)\n",
        "\n",
        "      return self.muP, self.SigmaP, sigmas_f \n",
        "\n",
        "  def update(self, z):\n",
        "    self.mup, self.Sigmap, sigmas_f = self.predict()\n",
        "    _, wc, wm = self.MerweWeightSigmaPoints()\n",
        "    sigmas_h = np.zeros(shape=(len(sigmas_f), len(z)))\n",
        "\n",
        "    # transform sigma points into measurement space\n",
        "\n",
        "    for i in range(len(sigmas_f)):\n",
        "        sigmas_h[i] = self.hx(sigmas_f[i], radar_pos)\n",
        "\n",
        "    # mean and covariance of prediction passed through UT\n",
        "    zp, Pz = self.unscented_transform(sigmas_h, self.Q)\n",
        "\n",
        "    # compute cross variance of the state and the measurements\n",
        "    Pxz = np.zeros((len(self.mup), len(zp)))\n",
        "    for i in range(len(sigmas_f)):\n",
        "        Pxz += wc[i] * np.outer(sigmas_f[i] - self.mup, sigmas_h[i] - zp)\n",
        "\n",
        "    K = np.dot(Pxz, np.linalg.inv(Pz)) # Kalman gain\n",
        "\n",
        "    self.mu = self.mup + np.dot(K, z - zp)\n",
        "    self.Sigma = self.Sigmap - np.dot(K, Pz).dot(K.T)\n",
        "    return self.mu, self.Sigma\n",
        "\n",
        "\n"
      ],
      "metadata": {
        "id": "DdEUNjlW0_IT"
      },
      "execution_count": 46,
      "outputs": []
    },
    {
      "cell_type": "code",
      "source": [
        "%matplotlib inline\n",
        "import matplotlib.pyplot as plt\n",
        "\n",
        "def plot_radar(xs, t, plot_x=True, plot_vel=True, plot_alt=True):\n",
        "    xs = np.asarray(xs)\n",
        "    if plot_x:\n",
        "        plt.figure()\n",
        "        plt.plot(t, xs[:, 0]/1000.)\n",
        "        plt.xlabel('time(sec)')\n",
        "        plt.ylabel('position(km)')\n",
        "        plt.tight_layout()\n",
        "    if plot_vel:\n",
        "        plt.figure()\n",
        "        plt.plot(t, xs[:, 1])\n",
        "        plt.xlabel('time(sec)')\n",
        "        plt.ylabel('velocity')\n",
        "        plt.tight_layout()\n",
        "    if plot_alt:\n",
        "        plt.figure()\n",
        "        plt.plot(t, xs[:,2])\n",
        "        plt.xlabel('time(sec)')\n",
        "        plt.ylabel('altitude')\n",
        "        plt.tight_layout()\n",
        "    plt.show()"
      ],
      "metadata": {
        "id": "wbuhk-9gYUkm"
      },
      "execution_count": 47,
      "outputs": []
    },
    {
      "cell_type": "code",
      "source": [
        "import math\n",
        "import random\n",
        "\n",
        "dt = 3. # 12 seconds between readings\n",
        "range_std = 5 # meters\n",
        "elevation_angle_std = math.radians(0.5)\n",
        "ac_pos = (0., 1000.)\n",
        "ac_vel = (100., 0.)\n",
        "radar_pos = (0., 0.)\n",
        "\n",
        "# state of the aircraft\n",
        "x=np.array([10, 20, 30])\n",
        "\n",
        "kf = UKF(3, 2, fx=f_radar, hx=h_radar, radar_pos = (0,0), dt = dt)\n",
        "\n",
        "kf.R[0:2, 0:2] = np.array([[2.025, 1.35 ], [1.35 , 0.9  ]])\n",
        "kf.R[2,2] = 0.1\n",
        "\n",
        "kf.Q = np.diag([range_std**2, elevation_angle_std**2])\n",
        "kf.mu = np.array([0., 90., 1000.])\n",
        "kf.Sigma = np.diag([300**2, 30**2, 150**2])\n",
        "\n",
        "np.random.seed(200)\n",
        "pos = (0, 0)\n",
        "radar = RadarStation(pos, range_std, elevation_angle_std)\n",
        "ac = ACSim(ac_pos, (100, 0), 0.02)\n",
        "\n",
        "time = np.arange(0, 360 + dt, dt)\n",
        "xs = []\n",
        "for _ in time:\n",
        "    ac.update(dt)\n",
        "    r = radar.noisy_reading(ac.position)\n",
        "    kf.predict()\n",
        "    kf.update([r[0], r[1]])\n",
        "    xs.append(kf.mu)\n",
        "plot_radar(xs, time)\n"
      ],
      "metadata": {
        "colab": {
          "base_uri": "https://localhost:8080/",
          "height": 857
        },
        "id": "eIvQN_Dd1Vx8",
        "outputId": "5c45b3a1-0b9f-4aec-c146-deb889e9416d"
      },
      "execution_count": 48,
      "outputs": [
        {
          "output_type": "display_data",
          "data": {
            "text/plain": [
              "<Figure size 432x288 with 1 Axes>"
            ],
            "image/png": "[encoded data removed]"
          },
          "metadata": {
            "needs_background": "light"
          }
        },
        {
          "output_type": "display_data",
          "data": {
            "text/plain": [
              "<Figure size 432x288 with 1 Axes>"
            ],
            "image/png": "[encoded data removed]"
          },
          "metadata": {
            "needs_background": "light"
          }
        },
        {
          "output_type": "display_data",
          "data": {
            "text/plain": [
              "<Figure size 432x288 with 1 Axes>"
            ],
            "image/png": "[encoded data removed]"
          },
          "metadata": {
            "needs_background": "light"
          }
        }
      ]
    },
    {
      "cell_type": "code",
      "source": [
        "# Student name: Srinivas Mukund Vadrev\n",
        "# Student number: x2020fvn, 202005966\n",
        "# Assignment 1 - Mobile Robotics - 3/13/2022\n",
        "import numpy as np\n",
        "from numpy.linalg import norm\n",
        "from math import sqrt\n",
        "from scipy.linalg import cholesky\n",
        "from scipy import linalg\n",
        "from math import atan2\n",
        "\n",
        "def f_radar(x, dt):\n",
        "    \"\"\" state transition function for a constant velocity\n",
        "    aircraft with the state vector [distance, velocity, altitude]\"\"\"\n",
        "    return (np.array([[1, dt, 0, 0],\n",
        "                  [0,  1, 0, 0],\n",
        "                  [0,  0, 1, dt],\n",
        "                  [0,  0, 0, 1]], dtype=float) @ x)\n",
        "\n",
        "def h_radar(x, radar_pos):\n",
        "  \"\"\"Measurement function, return a list [slant_range, elevation_angle]\"\"\"\n",
        "  dim_x = x[0] - radar_pos[0]\n",
        "  dim_y = x[2] - radar_pos[1]\n",
        "\n",
        "  slant_range = sqrt(dim_x**2 + dim_y**2)\n",
        "  elevation_angle = np.arctan2(dim_y, dim_x)\n",
        "  return slant_range, elevation_angle"
      ],
      "metadata": {
        "id": "UkCe-iXtiPQG"
      },
      "execution_count": 49,
      "outputs": []
    },
    {
      "cell_type": "code",
      "source": [
        "def plot_altitude(xs, t, track):\n",
        "    xs = np.asarray(xs)\n",
        "\n",
        "    plt.plot(t, xs[:,2], label='filter', )\n",
        "    plt.plot(t, track, label='Aircraft', lw=2, ls='--', c='k')\n",
        "    plt.xlabel('time(sec)')\n",
        "    plt.ylabel('altitude')\n",
        "    plt.legend(loc=4)"
      ],
      "metadata": {
        "id": "Em3NRXfSiQX3"
      },
      "execution_count": 50,
      "outputs": []
    },
    {
      "cell_type": "code",
      "source": [
        "kf.x = np.array([0., 90., 1100.])\n",
        "kf.P = np.diag([300**2, 30**2, 150**2])\n",
        "ac = ACSim(ac_pos, (100, 0), 0.02)\n",
        "\n",
        "np.random.seed(200)\n",
        "time = np.arange(0, 360 + dt, dt)\n",
        "xs, ys = [], []\n",
        "for t in time:\n",
        "    if t >= 60:\n",
        "        ac.velocity[1] = 300/60 # 300 meters/minute climb\n",
        "    ac.update(dt)\n",
        "    r = radar.noisy_reading(ac.position)\n",
        "    ys.append(ac.position[1])\n",
        "    kf.predict()\n",
        "    kf.update([r[0], r[1]])\n",
        "    xs.append(kf.x)\n",
        "\n",
        "plot_altitude(xs, time, ys)"
      ],
      "metadata": {
        "id": "i2dmHVGYiTXV",
        "outputId": "6a0d6ae0-8368-4618-cc7a-47ab2be0111e",
        "colab": {
          "base_uri": "https://localhost:8080/",
          "height": 279
        }
      },
      "execution_count": 51,
      "outputs": [
        {
          "output_type": "display_data",
          "data": {
            "text/plain": [
              "<Figure size 432x288 with 1 Axes>"
            ],
            "image/png": "[encoded data removed]"
          },
          "metadata": {
            "needs_background": "light"
          }
        }
      ]
    }
  ]
}